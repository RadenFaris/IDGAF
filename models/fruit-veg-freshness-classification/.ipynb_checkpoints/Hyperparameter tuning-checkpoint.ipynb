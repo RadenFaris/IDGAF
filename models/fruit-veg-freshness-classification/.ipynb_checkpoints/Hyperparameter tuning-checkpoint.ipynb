{
 "cells": [
  {
   "cell_type": "code",
   "execution_count": 1,
   "metadata": {},
   "outputs": [],
   "source": [
    "# Load the TensorBoard notebook extension\n",
    "%load_ext tensorboard"
   ]
  },
  {
   "cell_type": "code",
   "execution_count": 34,
   "metadata": {},
   "outputs": [],
   "source": [
    "import tensorflow as tf\n",
    "from tensorboard.plugins.hparams import api as hp\n",
    "import numpy as np"
   ]
  },
  {
   "cell_type": "code",
   "execution_count": 37,
   "metadata": {},
   "outputs": [],
   "source": [
    "# Clear any logs from previous runs\n",
    "import shutil\n",
    "shutil.rmtree('logs')"
   ]
  },
  {
   "cell_type": "markdown",
   "metadata": {},
   "source": [
    "## Initial setup"
   ]
  },
  {
   "cell_type": "markdown",
   "metadata": {},
   "source": [
    "* Import ResNet50 pretrained model"
   ]
  },
  {
   "cell_type": "code",
   "execution_count": 4,
   "metadata": {},
   "outputs": [
    {
     "name": "stdout",
     "output_type": "stream",
     "text": [
      "Number of layers:  175\n"
     ]
    }
   ],
   "source": [
    "from tensorflow.keras.applications.resnet50 import ResNet50, preprocess_input, decode_predictions\n",
    "\n",
    "batch_size = 32\n",
    "img_height = 224\n",
    "img_width = 224\n",
    "img_size = (img_height, img_width)\n",
    "img_shape = img_size + (3,)\n",
    "\n",
    "pre_trained_model = ResNet50(input_shape = img_shape,\n",
    "                        include_top = False,\n",
    "                        weights = 'imagenet')\n",
    "\n",
    "print(\"Number of layers: \", len(pre_trained_model.layers))"
   ]
  },
  {
   "cell_type": "markdown",
   "metadata": {},
   "source": [
    "* Load dataset"
   ]
  },
  {
   "cell_type": "code",
   "execution_count": 5,
   "metadata": {},
   "outputs": [
    {
     "name": "stdout",
     "output_type": "stream",
     "text": [
      "Found 4136 files belonging to 18 classes.\n",
      "Using 3309 files for training.\n",
      "Found 4136 files belonging to 18 classes.\n",
      "Using 827 files for validation.\n"
     ]
    }
   ],
   "source": [
    "# Edit according to local path for dataset\n",
    "ds_path = r\"fruitveg\"\n",
    "\n",
    "train_ds = tf.keras.utils.image_dataset_from_directory(ds_path,\n",
    "                                        validation_split = 0.2,\n",
    "                                        subset = \"training\",\n",
    "                                        seed = 123,\n",
    "                                        image_size = img_size,\n",
    "                                        batch_size = batch_size)\n",
    "\n",
    "val_ds = tf.keras.utils.image_dataset_from_directory(ds_path,\n",
    "                                      validation_split = 0.2,\n",
    "                                      subset = \"validation\",\n",
    "                                      seed = 123,\n",
    "                                      image_size = img_size,\n",
    "                                      batch_size = batch_size)\n",
    "\n",
    "class_names = train_ds.class_names\n",
    "num_classes = len(class_names)"
   ]
  },
  {
   "cell_type": "markdown",
   "metadata": {},
   "source": [
    "* Hyperparameter setup"
   ]
  },
  {
   "cell_type": "code",
   "execution_count": 32,
   "metadata": {},
   "outputs": [],
   "source": [
    "HP_LEARNING_RATE = hp.HParam('learning_rate', hp.Discrete([1e-5, 1e-4, 1e-3]))\n",
    "HP_DROPOUT = hp.HParam('dropout', hp.RealInterval(0.2, 0.4))\n",
    "HP_TUNING_LAYER = hp.HParam('tuning_layers', hp.IntInterval(165, 170))\n",
    "# HP_OPTIMIZER = hp.HParam('optimizer', hp.Discrete(['adam', 'sgd']))\n",
    "\n",
    "METRIC_ACCURACY = 'accuracy'\n",
    "\n",
    "with tf.summary.create_file_writer('logs/hparam_tuning').as_default():\n",
    "    hp.hparams_config(\n",
    "        hparams=[HP_LEARNING_RATE, HP_DROPOUT, HP_TUNING_LAYER],\n",
    "        metrics=[hp.Metric(METRIC_ACCURACY, display_name='Accuracy')],\n",
    "    )"
   ]
  },
  {
   "cell_type": "markdown",
   "metadata": {},
   "source": [
    "## Define training & run function"
   ]
  },
  {
   "cell_type": "code",
   "execution_count": 7,
   "metadata": {},
   "outputs": [],
   "source": [
    "def model_training(hparams):\n",
    "    pre_trained_model.trainable = True\n",
    "\n",
    "    # Fine-tune from this layer onwards\n",
    "    START_TRAIN = hparams[HP_TUNING_LAYER]\n",
    "\n",
    "    # Freeze all the layers before \n",
    "    for layer in pre_trained_model.layers[:START_TRAIN]:\n",
    "        layer.trainable = False\n",
    "\n",
    "    # Averaging layer\n",
    "    global_average = tf.keras.layers.GlobalAveragePooling2D()\n",
    "\n",
    "    # Data augmentation \n",
    "    augmentation = tf.keras.Sequential([\n",
    "        tf.keras.layers.RandomFlip('horizontal_and_vertical'),\n",
    "        tf.keras.layers.RandomRotation(0.2)\n",
    "    ])\n",
    "\n",
    "    # Add dense layer\n",
    "    prediction_layer = tf.keras.layers.Dense(num_classes, activation='softmax')\n",
    "\n",
    "    # Chain model \n",
    "    inputs = tf.keras.Input(shape = img_shape)\n",
    "    x = augmentation(inputs) \n",
    "    x = preprocess_input(x)\n",
    "    x = pre_trained_model(x, training=False)\n",
    "    x = global_average(x)\n",
    "    x = tf.keras.layers.Dropout(hparams[HP_DROPOUT])(x)\n",
    "    outputs = prediction_layer(x)\n",
    "    model = tf.keras.Model(inputs,outputs)\n",
    "    \n",
    "    # Compile model\n",
    "    LR = hparams[HP_LEARNING_RATE]\n",
    "    model.compile(optimizer=tf.keras.optimizers.Adam(learning_rate = LR),\n",
    "                  loss=tf.keras.losses.SparseCategoricalCrossentropy(from_logits = False),\n",
    "                  metrics=['accuracy'])\n",
    "    \n",
    "    # Train model\n",
    "    EPOCH = 1\n",
    "\n",
    "    model.fit(train_ds,\n",
    "        validation_data = val_ds,\n",
    "        epochs = EPOCH,\n",
    "        callbacks=[\n",
    "            tf.keras.callbacks.TensorBoard(logdir),  \n",
    "            hp.KerasCallback(logdir, hparams)\n",
    "            ]\n",
    "        )\n",
    "    _, accuracy = model.evaluate(val_ds)\n",
    "    return accuracy"
   ]
  },
  {
   "cell_type": "code",
   "execution_count": 30,
   "metadata": {},
   "outputs": [],
   "source": [
    "def run(run_dir, hparams):\n",
    "    with tf.summary.create_file_writer(run_dir).as_default():\n",
    "        hp.hparams(hparams)\n",
    "        accuracy = model_training(hparams)\n",
    "        tf.summary.scalar(METRIC_ACCURACY, accuracy, step=1)"
   ]
  },
  {
   "cell_type": "markdown",
   "metadata": {},
   "source": [
    "## Start runs"
   ]
  },
  {
   "cell_type": "code",
   "execution_count": 40,
   "metadata": {
    "scrolled": false
   },
   "outputs": [
    {
     "name": "stdout",
     "output_type": "stream",
     "text": [
      "--- Starting trial: run-0\n",
      "{'learning_rate': 1e-05, 'dropout': 0.2, 'tuning_layers': 165}\n",
      "104/104 [==============================] - 290s 3s/step - loss: 2.7981 - accuracy: 0.1710 - val_loss: 1.6644 - val_accuracy: 0.4704\n",
      "26/26 [==============================] - 50s 2s/step - loss: 1.6644 - accuracy: 0.4704\n",
      "--- Starting trial: run-1\n",
      "{'learning_rate': 1e-05, 'dropout': 0.2, 'tuning_layers': 170}\n",
      "104/104 [==============================] - 267s 3s/step - loss: 3.1123 - accuracy: 0.1466 - val_loss: 2.2690 - val_accuracy: 0.2842\n",
      "26/26 [==============================] - 50s 2s/step - loss: 2.2690 - accuracy: 0.2842\n",
      "--- Starting trial: run-2\n",
      "{'learning_rate': 1e-05, 'dropout': 0.30000000000000004, 'tuning_layers': 165}\n",
      "104/104 [==============================] - 293s 3s/step - loss: 2.6788 - accuracy: 0.2239 - val_loss: 1.5366 - val_accuracy: 0.5260\n",
      "26/26 [==============================] - 51s 2s/step - loss: 1.5366 - accuracy: 0.5260\n",
      "--- Starting trial: run-3\n",
      "{'learning_rate': 1e-05, 'dropout': 0.30000000000000004, 'tuning_layers': 170}\n",
      "104/104 [==============================] - 269s 3s/step - loss: 3.3510 - accuracy: 0.1100 - val_loss: 2.2353 - val_accuracy: 0.2999\n",
      "26/26 [==============================] - 51s 2s/step - loss: 2.2353 - accuracy: 0.2999\n",
      "--- Starting trial: run-4\n",
      "{'learning_rate': 1e-05, 'dropout': 0.4, 'tuning_layers': 165}\n",
      "104/104 [==============================] - 296s 3s/step - loss: 2.8769 - accuracy: 0.1931 - val_loss: 1.7457 - val_accuracy: 0.4389\n",
      "26/26 [==============================] - 51s 2s/step - loss: 1.7457 - accuracy: 0.4389\n",
      "--- Starting trial: run-5\n",
      "{'learning_rate': 1e-05, 'dropout': 0.4, 'tuning_layers': 170}\n",
      "104/104 [==============================] - 272s 3s/step - loss: 3.1765 - accuracy: 0.1432 - val_loss: 2.1172 - val_accuracy: 0.3410\n",
      "26/26 [==============================] - 51s 2s/step - loss: 2.1172 - accuracy: 0.3410\n",
      "--- Starting trial: run-6\n",
      "{'learning_rate': 0.0001, 'dropout': 0.2, 'tuning_layers': 165}\n",
      "104/104 [==============================] - 296s 3s/step - loss: 0.8738 - accuracy: 0.7126 - val_loss: 0.3570 - val_accuracy: 0.8755\n",
      "26/26 [==============================] - 51s 2s/step - loss: 0.3570 - accuracy: 0.8755\n",
      "--- Starting trial: run-7\n",
      "{'learning_rate': 0.0001, 'dropout': 0.2, 'tuning_layers': 170}\n",
      "104/104 [==============================] - 270s 3s/step - loss: 0.8307 - accuracy: 0.7446 - val_loss: 0.4709 - val_accuracy: 0.8404\n",
      "26/26 [==============================] - 51s 2s/step - loss: 0.4709 - accuracy: 0.8404\n",
      "--- Starting trial: run-8\n",
      "{'learning_rate': 0.0001, 'dropout': 0.30000000000000004, 'tuning_layers': 165}\n",
      "104/104 [==============================] - 302s 3s/step - loss: 0.8173 - accuracy: 0.7416 - val_loss: 0.3461 - val_accuracy: 0.8791\n",
      "26/26 [==============================] - 57s 2s/step - loss: 0.3461 - accuracy: 0.8791\n",
      "--- Starting trial: run-9\n",
      "{'learning_rate': 0.0001, 'dropout': 0.30000000000000004, 'tuning_layers': 170}\n",
      "104/104 [==============================] - 281s 3s/step - loss: 0.8144 - accuracy: 0.7507 - val_loss: 0.3658 - val_accuracy: 0.8755\n",
      "26/26 [==============================] - 53s 2s/step - loss: 0.3658 - accuracy: 0.8755\n",
      "--- Starting trial: run-10\n",
      "{'learning_rate': 0.0001, 'dropout': 0.4, 'tuning_layers': 165}\n",
      "104/104 [==============================] - 303s 3s/step - loss: 0.8071 - accuracy: 0.7519 - val_loss: 0.3407 - val_accuracy: 0.8960\n",
      "26/26 [==============================] - 52s 2s/step - loss: 0.3407 - accuracy: 0.8960\n",
      "--- Starting trial: run-11\n",
      "{'learning_rate': 0.0001, 'dropout': 0.4, 'tuning_layers': 170}\n",
      "104/104 [==============================] - 273s 3s/step - loss: 0.8228 - accuracy: 0.7543 - val_loss: 0.3101 - val_accuracy: 0.8900\n",
      "26/26 [==============================] - 65s 2s/step - loss: 0.3101 - accuracy: 0.8900\n",
      "--- Starting trial: run-12\n",
      "{'learning_rate': 0.001, 'dropout': 0.2, 'tuning_layers': 165}\n",
      "104/104 [==============================] - 322s 3s/step - loss: 0.8782 - accuracy: 0.7461 - val_loss: 0.5805 - val_accuracy: 0.8513\n",
      "26/26 [==============================] - 51s 2s/step - loss: 0.5805 - accuracy: 0.8513\n",
      "--- Starting trial: run-13\n",
      "{'learning_rate': 0.001, 'dropout': 0.2, 'tuning_layers': 170}\n",
      "104/104 [==============================] - 286s 3s/step - loss: 0.4261 - accuracy: 0.8815 - val_loss: 0.3471 - val_accuracy: 0.8996\n",
      "26/26 [==============================] - 54s 2s/step - loss: 0.3471 - accuracy: 0.8996\n",
      "--- Starting trial: run-14\n",
      "{'learning_rate': 0.001, 'dropout': 0.30000000000000004, 'tuning_layers': 165}\n",
      "104/104 [==============================] - 304s 3s/step - loss: 0.7071 - accuracy: 0.8051 - val_loss: 0.6631 - val_accuracy: 0.8331\n",
      "26/26 [==============================] - 54s 2s/step - loss: 0.6631 - accuracy: 0.8331\n",
      "--- Starting trial: run-15\n",
      "{'learning_rate': 0.001, 'dropout': 0.30000000000000004, 'tuning_layers': 170}\n",
      "104/104 [==============================] - 281s 3s/step - loss: 0.4147 - accuracy: 0.8858 - val_loss: 0.4577 - val_accuracy: 0.8875\n",
      "26/26 [==============================] - 53s 2s/step - loss: 0.4577 - accuracy: 0.8875\n",
      "--- Starting trial: run-16\n",
      "{'learning_rate': 0.001, 'dropout': 0.4, 'tuning_layers': 165}\n",
      "104/104 [==============================] - 309s 3s/step - loss: 0.8175 - accuracy: 0.7773 - val_loss: 0.4679 - val_accuracy: 0.8682\n",
      "26/26 [==============================] - 53s 2s/step - loss: 0.4679 - accuracy: 0.8682\n",
      "--- Starting trial: run-17\n",
      "{'learning_rate': 0.001, 'dropout': 0.4, 'tuning_layers': 170}\n",
      "104/104 [==============================] - 280s 3s/step - loss: 0.3892 - accuracy: 0.8945 - val_loss: 0.4436 - val_accuracy: 0.8936\n",
      "26/26 [==============================] - 53s 2s/step - loss: 0.4436 - accuracy: 0.8936\n",
      "--- Starting trial: run-18\n",
      "{'learning_rate': 0.01, 'dropout': 0.2, 'tuning_layers': 165}\n",
      "104/104 [==============================] - 311s 3s/step - loss: 10.3187 - accuracy: 0.5730 - val_loss: 0.5364 - val_accuracy: 0.8259\n",
      "26/26 [==============================] - 59s 2s/step - loss: 0.5364 - accuracy: 0.8259\n",
      "--- Starting trial: run-19\n",
      "{'learning_rate': 0.01, 'dropout': 0.2, 'tuning_layers': 170}\n",
      "104/104 [==============================] - 282s 3s/step - loss: 0.6333 - accuracy: 0.8042 - val_loss: 0.3953 - val_accuracy: 0.8875\n",
      "26/26 [==============================] - 54s 2s/step - loss: 0.3953 - accuracy: 0.8875\n",
      "--- Starting trial: run-20\n",
      "{'learning_rate': 0.01, 'dropout': 0.30000000000000004, 'tuning_layers': 165}\n",
      "104/104 [==============================] - 312s 3s/step - loss: 0.8231 - accuracy: 0.7619 - val_loss: 0.3330 - val_accuracy: 0.9008\n",
      "26/26 [==============================] - 54s 2s/step - loss: 0.3330 - accuracy: 0.9008\n",
      "--- Starting trial: run-21\n",
      "{'learning_rate': 0.01, 'dropout': 0.30000000000000004, 'tuning_layers': 170}\n",
      "104/104 [==============================] - 285s 3s/step - loss: 0.6187 - accuracy: 0.7933 - val_loss: 0.4325 - val_accuracy: 0.8549\n",
      "26/26 [==============================] - 53s 2s/step - loss: 0.4325 - accuracy: 0.8549\n",
      "--- Starting trial: run-22\n",
      "{'learning_rate': 0.01, 'dropout': 0.4, 'tuning_layers': 165}\n",
      "104/104 [==============================] - 314s 3s/step - loss: 0.9854 - accuracy: 0.7531 - val_loss: 0.5303 - val_accuracy: 0.8331\n",
      "26/26 [==============================] - 53s 2s/step - loss: 0.5303 - accuracy: 0.8331\n",
      "--- Starting trial: run-23\n",
      "{'learning_rate': 0.01, 'dropout': 0.4, 'tuning_layers': 170}\n",
      "104/104 [==============================] - 281s 3s/step - loss: 0.6405 - accuracy: 0.7888 - val_loss: 0.3230 - val_accuracy: 0.8827\n",
      "26/26 [==============================] - 53s 2s/step - loss: 0.3230 - accuracy: 0.8827\n"
     ]
    }
   ],
   "source": [
    "session_num = 0\n",
    "logdir = r'logs/hparam_tuning'\n",
    "\n",
    "for learning_rate in HP_LEARNING_RATE.domain.values:\n",
    "    for dropout_rate in np.linspace(HP_DROPOUT.domain.min_value,\n",
    "                                    HP_DROPOUT.domain.max_value,\n",
    "                                    3):\n",
    "        for tuning_layer in (HP_TUNING_LAYER.domain.min_value,\n",
    "                             HP_TUNING_LAYER.domain.max_value):\n",
    "#                             np.linspace(HP_TUNING_LAYER.domain.min_value,\n",
    "#                                         HP_TUNING_LAYER.domain.max_value,\n",
    "#                                         6, dtype='int'):\n",
    "            hparams = {\n",
    "                      HP_LEARNING_RATE: learning_rate,\n",
    "                      HP_DROPOUT: dropout_rate,\n",
    "                      HP_TUNING_LAYER: tuning_layer,\n",
    "                      }\n",
    "            run_name = \"run-%d\" % session_num\n",
    "            print('--- Starting trial: %s' % run_name)\n",
    "            print({h.name: hparams[h] for h in hparams})\n",
    "            run('logs/hparam_tuning/' + run_name, hparams)\n",
    "            session_num += 1"
   ]
  },
  {
   "cell_type": "markdown",
   "metadata": {},
   "source": [
    "## Visualize in TensorBoard"
   ]
  },
  {
   "cell_type": "code",
   "execution_count": 41,
   "metadata": {},
   "outputs": [
    {
     "data": {
      "text/html": [
       "\n",
       "      <iframe id=\"tensorboard-frame-11480cff34d33599\" width=\"100%\" height=\"800\" frameborder=\"0\">\n",
       "      </iframe>\n",
       "      <script>\n",
       "        (function() {\n",
       "          const frame = document.getElementById(\"tensorboard-frame-11480cff34d33599\");\n",
       "          const url = new URL(\"/\", window.location);\n",
       "          const port = 6006;\n",
       "          if (port) {\n",
       "            url.port = port;\n",
       "          }\n",
       "          frame.src = url;\n",
       "        })();\n",
       "      </script>\n",
       "    "
      ],
      "text/plain": [
       "<IPython.core.display.HTML object>"
      ]
     },
     "metadata": {},
     "output_type": "display_data"
    }
   ],
   "source": [
    "%tensorboard --logdir logs/hparam_tuning"
   ]
  }
 ],
 "metadata": {
  "kernelspec": {
   "display_name": "Python 3",
   "language": "python",
   "name": "python3"
  },
  "language_info": {
   "codemirror_mode": {
    "name": "ipython",
    "version": 3
   },
   "file_extension": ".py",
   "mimetype": "text/x-python",
   "name": "python",
   "nbconvert_exporter": "python",
   "pygments_lexer": "ipython3",
   "version": "3.8.5"
  },
  "widgets": {
   "application/vnd.jupyter.widget-state+json": {
    "state": {},
    "version_major": 2,
    "version_minor": 0
   }
  }
 },
 "nbformat": 4,
 "nbformat_minor": 4
}
