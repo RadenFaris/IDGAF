{
 "cells": [
  {
   "cell_type": "markdown",
   "metadata": {},
   "source": [
    "# Fruit & Vegetables Freshness Classification"
   ]
  },
  {
   "cell_type": "markdown",
   "metadata": {},
   "source": [
    "## Import Libraries"
   ]
  },
  {
   "cell_type": "code",
   "execution_count": 1,
   "metadata": {
    "execution": {
     "iopub.execute_input": "2022-05-30T13:36:22.759929Z",
     "iopub.status.busy": "2022-05-30T13:36:22.759500Z",
     "iopub.status.idle": "2022-05-30T13:36:28.082200Z",
     "shell.execute_reply": "2022-05-30T13:36:28.081402Z",
     "shell.execute_reply.started": "2022-05-30T13:36:22.759847Z"
    }
   },
   "outputs": [],
   "source": [
    "import tensorflow as tf\n",
    "import tensorflow_datasets as tfds\n",
    "import pandas as pd\n",
    "import matplotlib.pyplot as plt\n",
    "import numpy as np"
   ]
  },
  {
   "cell_type": "markdown",
   "metadata": {},
   "source": [
    "## Download Dataset from Google Drive"
   ]
  },
  {
   "cell_type": "code",
   "execution_count": 2,
   "metadata": {
    "execution": {
     "iopub.execute_input": "2022-05-30T13:37:30.025286Z",
     "iopub.status.busy": "2022-05-30T13:37:30.024283Z",
     "iopub.status.idle": "2022-05-30T13:38:03.108197Z",
     "shell.execute_reply": "2022-05-30T13:38:03.106997Z",
     "shell.execute_reply.started": "2022-05-30T13:37:30.025230Z"
    }
   },
   "outputs": [],
   "source": [
    "pip install gdown"
   ]
  },
  {
   "cell_type": "code",
   "execution_count": 3,
   "metadata": {
    "execution": {
     "iopub.execute_input": "2022-05-30T13:51:05.640939Z",
     "iopub.status.busy": "2022-05-30T13:51:05.640351Z",
     "iopub.status.idle": "2022-05-30T13:52:28.082133Z",
     "shell.execute_reply": "2022-05-30T13:52:28.081182Z",
     "shell.execute_reply.started": "2022-05-30T13:51:05.640902Z"
    }
   },
   "outputs": [],
   "source": [
    "!gdown --id 1ftK3lZTKsKTXFivFHJfjpPzYiXDvNID2"
   ]
  },
  {
   "cell_type": "code",
   "execution_count": 4,
   "metadata": {
    "execution": {
     "iopub.execute_input": "2022-05-30T13:53:31.591576Z",
     "iopub.status.busy": "2022-05-30T13:53:31.591032Z",
     "iopub.status.idle": "2022-05-30T13:53:39.762572Z",
     "shell.execute_reply": "2022-05-30T13:53:39.761744Z",
     "shell.execute_reply.started": "2022-05-30T13:53:31.591523Z"
    }
   },
   "outputs": [],
   "source": [
    "import os\n",
    "import zipfile \n",
    "\n",
    "data_dir = './fruitveg'\n",
    "os.mkdir(data_dir)\n",
    "\n",
    "with zipfile.ZipFile('fruitveg.zip', 'r') as zip_file:\n",
    "    zip_file.extractall(data_dir)"
   ]
  },
  {
   "cell_type": "markdown",
   "metadata": {},
   "source": [
    "## <span style='background :LemonChiffon' > Prepare dataset </span>"
   ]
  },
  {
   "cell_type": "markdown",
   "metadata": {},
   "source": [
    "### Set parameters and load dataset"
   ]
  },
  {
   "cell_type": "code",
   "execution_count": 5,
   "metadata": {
    "execution": {
     "iopub.execute_input": "2022-05-30T13:53:54.354162Z",
     "iopub.status.busy": "2022-05-30T13:53:54.353741Z",
     "iopub.status.idle": "2022-05-30T13:53:58.227445Z",
     "shell.execute_reply": "2022-05-30T13:53:58.226540Z",
     "shell.execute_reply.started": "2022-05-30T13:53:54.354128Z"
    }
   },
   "outputs": [],
   "source": [
    "from tensorflow.keras.utils import image_dataset_from_directory\n",
    "\n",
    "batch_size = 32\n",
    "img_height = 224\n",
    "img_width = 224\n",
    "img_size = (img_height, img_width)\n",
    "img_shape = img_size + (3,)\n",
    "\n",
    "# Edit according to local path for dataset\n",
    "ds_path = r\"fruitveg\"\n",
    "\n",
    "train_ds = image_dataset_from_directory(ds_path,\n",
    "                                        validation_split = 0.2,\n",
    "                                        subset = \"training\",\n",
    "                                        seed = 123,\n",
    "                                        image_size = img_size,\n",
    "                                        batch_size = batch_size)\n",
    "\n",
    "val_ds = image_dataset_from_directory(ds_path,\n",
    "                                      validation_split = 0.2,\n",
    "                                      subset = \"validation\",\n",
    "                                      seed = 123,\n",
    "                                      image_size = img_size,\n",
    "                                      batch_size = batch_size)"
   ]
  },
  {
   "cell_type": "code",
   "execution_count": 6,
   "metadata": {
    "execution": {
     "iopub.execute_input": "2022-05-30T13:54:06.387310Z",
     "iopub.status.busy": "2022-05-30T13:54:06.386719Z",
     "iopub.status.idle": "2022-05-30T13:54:06.393807Z",
     "shell.execute_reply": "2022-05-30T13:54:06.391162Z",
     "shell.execute_reply.started": "2022-05-30T13:54:06.387255Z"
    },
    "scrolled": true
   },
   "outputs": [],
   "source": [
    "class_names = train_ds.class_names\n",
    "num_classes = len(class_names)\n",
    "\n",
    "print(class_names)"
   ]
  },
  {
   "cell_type": "markdown",
   "metadata": {},
   "source": [
    "### Sample images"
   ]
  },
  {
   "cell_type": "code",
   "execution_count": 7,
   "metadata": {
    "execution": {
     "iopub.execute_input": "2022-05-30T13:54:08.565390Z",
     "iopub.status.busy": "2022-05-30T13:54:08.564750Z",
     "iopub.status.idle": "2022-05-30T13:54:12.999701Z",
     "shell.execute_reply": "2022-05-30T13:54:12.997336Z",
     "shell.execute_reply.started": "2022-05-30T13:54:08.565354Z"
    }
   },
   "outputs": [],
   "source": [
    "plt.figure(figsize=(13, 13))\n",
    "for images, labels in train_ds.take(1):\n",
    "    for i in range(25):\n",
    "        ax = plt.subplot(5, 5, i + 1)\n",
    "        plt.imshow(images[i].numpy().astype(\"uint8\"))\n",
    "        plt.title(class_names[labels[i]] + ' ({})'.format(labels[i]))\n",
    "        plt.axis(\"off\")"
   ]
  },
  {
   "cell_type": "markdown",
   "metadata": {},
   "source": [
    "### Create test set"
   ]
  },
  {
   "cell_type": "code",
   "execution_count": 8,
   "metadata": {
    "execution": {
     "iopub.execute_input": "2022-05-30T13:55:05.423340Z",
     "iopub.status.busy": "2022-05-30T13:55:05.422427Z",
     "iopub.status.idle": "2022-05-30T13:55:05.437434Z",
     "shell.execute_reply": "2022-05-30T13:55:05.436604Z",
     "shell.execute_reply.started": "2022-05-30T13:55:05.423247Z"
    }
   },
   "outputs": [],
   "source": [
    "val_batches = tf.data.experimental.cardinality(val_ds)\n",
    "test_dataset = val_ds.take(val_batches // 2)\n",
    "validation_dataset = val_ds.skip(val_batches // 2)"
   ]
  },
  {
   "cell_type": "code",
   "execution_count": 9,
   "metadata": {
    "execution": {
     "iopub.execute_input": "2022-05-30T13:55:07.780118Z",
     "iopub.status.busy": "2022-05-30T13:55:07.779479Z",
     "iopub.status.idle": "2022-05-30T13:55:07.787707Z",
     "shell.execute_reply": "2022-05-30T13:55:07.786706Z",
     "shell.execute_reply.started": "2022-05-30T13:55:07.780082Z"
    }
   },
   "outputs": [],
   "source": [
    "# Buffered prefetching\n",
    "AUTOTUNE = tf.data.AUTOTUNE\n",
    "\n",
    "train_dataset = train_ds.prefetch(buffer_size = AUTOTUNE)\n",
    "validation_dataset = validation_dataset.prefetch(buffer_size = AUTOTUNE)\n",
    "test_dataset = test_dataset.prefetch(buffer_size = AUTOTUNE)"
   ]
  },
  {
   "cell_type": "markdown",
   "metadata": {},
   "source": [
    "## <span style='background :LemonChiffon' > Building the model </span>"
   ]
  },
  {
   "cell_type": "markdown",
   "metadata": {},
   "source": [
    "### Using transfer learning\n",
    "Run one of the three following cells to choose from the ResNet50, MobileNetV2, and InceptionV3 pre-trained models. "
   ]
  },
  {
   "cell_type": "markdown",
   "metadata": {},
   "source": [
    "* ResNet50"
   ]
  },
  {
   "cell_type": "code",
   "execution_count": 10,
   "metadata": {
    "execution": {
     "iopub.execute_input": "2022-05-30T13:55:11.635329Z",
     "iopub.status.busy": "2022-05-30T13:55:11.634605Z",
     "iopub.status.idle": "2022-05-30T13:55:13.791567Z",
     "shell.execute_reply": "2022-05-30T13:55:13.790724Z",
     "shell.execute_reply.started": "2022-05-30T13:55:11.635285Z"
    }
   },
   "outputs": [],
   "source": [
    "# Create ResNet50 base model\n",
    "from tensorflow.keras.applications.resnet50 import ResNet50, preprocess_input, decode_predictions\n",
    "\n",
    "pre_trained_model = ResNet50(input_shape = img_shape,\n",
    "                        include_top = False,\n",
    "                        weights = 'imagenet')\n",
    "\n",
    "# pre_trained_model.trainable = False"
   ]
  },
  {
   "cell_type": "markdown",
   "metadata": {},
   "source": [
    "* MobileNetV2"
   ]
  },
  {
   "cell_type": "code",
   "execution_count": null,
   "metadata": {},
   "outputs": [],
   "source": [
    "# Create MobileNetV2 base model \n",
    "from tensorflow.keras.applications.mobilenet_v2 import MobileNetV2, preprocess_input\n",
    "\n",
    "pre_trained_model = MobileNetV2(input_shape = img_shape,\n",
    "                        include_top = False,\n",
    "                        weights = 'imagenet')\n",
    "\n",
    "# pre_trained_model.trainable = False"
   ]
  },
  {
   "cell_type": "markdown",
   "metadata": {},
   "source": [
    "* InceptionV3"
   ]
  },
  {
   "cell_type": "code",
   "execution_count": null,
   "metadata": {},
   "outputs": [],
   "source": [
    "# Create InceptionV3 base model\n",
    "from tensorflow.keras.applications.inception_v3 import InceptionV3, preprocess_input\n",
    "\n",
    "pre_trained_model = InceptionV3(input_shape = img_shape,\n",
    "                        include_top = False,\n",
    "                        weights = 'imagenet')\n",
    "\n",
    "# pre_trained_model.trainable = False"
   ]
  },
  {
   "cell_type": "code",
   "execution_count": null,
   "metadata": {
    "scrolled": true
   },
   "outputs": [],
   "source": [
    "# Base model architecture\n",
    "pre_trained_model.summary()"
   ]
  },
  {
   "cell_type": "markdown",
   "metadata": {},
   "source": [
    "### Fine tuning layers"
   ]
  },
  {
   "cell_type": "code",
   "execution_count": 11,
   "metadata": {
    "execution": {
     "iopub.execute_input": "2022-05-30T13:55:18.385860Z",
     "iopub.status.busy": "2022-05-30T13:55:18.385250Z",
     "iopub.status.idle": "2022-05-30T13:55:18.392958Z",
     "shell.execute_reply": "2022-05-30T13:55:18.392048Z",
     "shell.execute_reply.started": "2022-05-30T13:55:18.385824Z"
    }
   },
   "outputs": [],
   "source": [
    "print(\"Number of layers: \", len(pre_trained_model.layers))"
   ]
  },
  {
   "cell_type": "code",
   "execution_count": 12,
   "metadata": {
    "execution": {
     "iopub.execute_input": "2022-05-30T13:55:26.272122Z",
     "iopub.status.busy": "2022-05-30T13:55:26.271761Z",
     "iopub.status.idle": "2022-05-30T13:55:26.286462Z",
     "shell.execute_reply": "2022-05-30T13:55:26.285704Z",
     "shell.execute_reply.started": "2022-05-30T13:55:26.272092Z"
    }
   },
   "outputs": [],
   "source": [
    "pre_trained_model.trainable = True\n",
    "\n",
    "# Fine-tune from this layer onwards\n",
    "START_TRAIN = 170\n",
    "\n",
    "# Freeze all the layers before \n",
    "for layer in pre_trained_model.layers[:START_TRAIN]:\n",
    "    layer.trainable = False"
   ]
  },
  {
   "cell_type": "markdown",
   "metadata": {},
   "source": [
    "### Preprocess input and add classification layer"
   ]
  },
  {
   "cell_type": "code",
   "execution_count": 13,
   "metadata": {
    "execution": {
     "iopub.execute_input": "2022-05-30T13:56:52.944870Z",
     "iopub.status.busy": "2022-05-30T13:56:52.944507Z",
     "iopub.status.idle": "2022-05-30T13:56:53.602229Z",
     "shell.execute_reply": "2022-05-30T13:56:53.601434Z",
     "shell.execute_reply.started": "2022-05-30T13:56:52.944841Z"
    }
   },
   "outputs": [],
   "source": [
    "# Averaging layer\n",
    "global_average = tf.keras.layers.GlobalAveragePooling2D()\n",
    "\n",
    "# Data augmentation \n",
    "augmentation = tf.keras.Sequential([\n",
    "    tf.keras.layers.RandomFlip('horizontal_and_vertical'),\n",
    "    tf.keras.layers.RandomRotation(0.2),\n",
    "    tf.keras.layers.RandomTranslation(height_factor = (-0.2, 0.2),\n",
    "                                      width_factor = (-0.2, 0.2),\n",
    "                                      fill_mode=\"nearest\",\n",
    "                                      interpolation=\"bilinear\"),\n",
    "    tf.keras.layers.RandomContrast(0.2)  \n",
    "])\n",
    "\n",
    "# Add dense layer\n",
    "prediction_layer = tf.keras.layers.Dense(num_classes, activation='softmax')\n",
    "\n",
    "# Chain model \n",
    "inputs = tf.keras.Input(shape = img_shape)\n",
    "x = augmentation(inputs) \n",
    "x = preprocess_input(x)\n",
    "x = pre_trained_model(x, training=False)\n",
    "x = global_average(x)\n",
    "x = tf.keras.layers.Dropout(0.5)(x)\n",
    "outputs = prediction_layer(x)\n",
    "model = tf.keras.Model(inputs,outputs)"
   ]
  },
  {
   "cell_type": "markdown",
   "metadata": {},
   "source": [
    "### Compile model"
   ]
  },
  {
   "cell_type": "code",
   "execution_count": 14,
   "metadata": {
    "execution": {
     "iopub.execute_input": "2022-05-30T13:57:00.609390Z",
     "iopub.status.busy": "2022-05-30T13:57:00.608532Z",
     "iopub.status.idle": "2022-05-30T13:57:00.649217Z",
     "shell.execute_reply": "2022-05-30T13:57:00.648442Z",
     "shell.execute_reply.started": "2022-05-30T13:57:00.609343Z"
    }
   },
   "outputs": [],
   "source": [
    "# Compile model\n",
    "LR = 0.0001\n",
    "model.compile(optimizer=tf.keras.optimizers.Adam(learning_rate = LR),\n",
    "              loss=tf.keras.losses.SparseCategoricalCrossentropy(from_logits = False),\n",
    "              metrics=['accuracy'])\n",
    "\n",
    "# Display model architecture\n",
    "model.summary()"
   ]
  },
  {
   "cell_type": "markdown",
   "metadata": {},
   "source": [
    "### Building model from scratch\n",
    "Run the following cell to build model from scratch, for transfer learning run the above cells."
   ]
  },
  {
   "cell_type": "code",
   "execution_count": null,
   "metadata": {},
   "outputs": [],
   "source": [
    "# Preprocessing\n",
    "data_augmentation = tf.keras.Sequential([ \n",
    "    tf.keras.layers.RandomFlip('horizontal_and_vertical'),\n",
    "    tf.keras.layers.RandomRotation(0.2)\n",
    "])\n",
    "    \n",
    "rescale = tf.keras.layers.Rescaling(1./255) \n",
    "    \n",
    "# Convolutional neural network\n",
    "cnn = tf.keras.models.Sequential([\n",
    "    tf.keras.layers.Conv2D(128, (3,3), activation='relu', input_shape=img_shape),\n",
    "    tf.keras.layers.MaxPooling2D(2, 2),\n",
    "\n",
    "    tf.keras.layers.Conv2D(64, (3,3), activation='relu'),\n",
    "    tf.keras.layers.MaxPooling2D(2,2),\n",
    "\n",
    "    tf.keras.layers.Conv2D(32, (3,3), activation='relu'),\n",
    "    tf.keras.layers.MaxPooling2D(2,2),\n",
    "\n",
    "    tf.keras.layers.Conv2D(32, (3,3), activation='relu'),\n",
    "    tf.keras.layers.MaxPooling2D(2,2),\n",
    "\n",
    "    tf.keras.layers.Flatten(),\n",
    "    tf.keras.layers.Dropout(0.2),\n",
    "    tf.keras.layers.Dense(512, activation='relu'),\n",
    "    tf.keras.layers.Dense(num_classes, activation='softmax')\n",
    "])\n",
    "\n",
    "# Chain model\n",
    "inputs = tf.keras.Input(shape = img_shape)\n",
    "x = data_augmentation(inputs) \n",
    "x = rescale(x)\n",
    "outputs = cnn(x)\n",
    "model = tf.keras.Model(inputs,outputs)\n",
    "    \n",
    "# Compile model\n",
    "lr = 0.001\n",
    "model.compile(optimizer=tf.keras.optimizers.Adam(learning_rate = lr),\n",
    "              loss=tf.keras.losses.SparseCategoricalCrossentropy(from_logits = False),\n",
    "              metrics=['accuracy'])\n",
    "\n",
    "# Display model architecture\n",
    "model.summary()"
   ]
  },
  {
   "cell_type": "markdown",
   "metadata": {},
   "source": [
    "## <span style='background :LemonChiffon' > Model training </span>"
   ]
  },
  {
   "cell_type": "code",
   "execution_count": 15,
   "metadata": {
    "execution": {
     "iopub.execute_input": "2022-05-30T13:57:24.065847Z",
     "iopub.status.busy": "2022-05-30T13:57:24.065208Z",
     "iopub.status.idle": "2022-05-30T13:57:24.073383Z",
     "shell.execute_reply": "2022-05-30T13:57:24.070323Z",
     "shell.execute_reply.started": "2022-05-30T13:57:24.065811Z"
    }
   },
   "outputs": [],
   "source": [
    "# Callback function\n",
    "class myCallback(tf.keras.callbacks.Callback):\n",
    "    def on_epoch_end(self, epoch, logs={}):\n",
    "        if(logs.get('accuracy')>0.98):\n",
    "            print(\"\\nReached 98% accuracy so cancelling training!\")\n",
    "            self.model.stop_training = True\n",
    "            \n",
    "callbacks = myCallback()"
   ]
  },
  {
   "cell_type": "code",
   "execution_count": 16,
   "metadata": {
    "execution": {
     "iopub.execute_input": "2022-05-30T13:57:28.260775Z",
     "iopub.status.busy": "2022-05-30T13:57:28.260131Z",
     "iopub.status.idle": "2022-05-30T15:19:10.296914Z",
     "shell.execute_reply": "2022-05-30T15:19:10.295614Z",
     "shell.execute_reply.started": "2022-05-30T13:57:28.260738Z"
    }
   },
   "outputs": [],
   "source": [
    "EPOCH = 100\n",
    "\n",
    "history = model.fit(\n",
    "            train_dataset,\n",
    "            validation_data = validation_dataset,\n",
    "            epochs = EPOCH,\n",
    "            callbacks=[callbacks])"
   ]
  },
  {
   "cell_type": "markdown",
   "metadata": {},
   "source": [
    "### Training Evaluation"
   ]
  },
  {
   "cell_type": "code",
   "execution_count": 17,
   "metadata": {
    "execution": {
     "iopub.execute_input": "2022-05-30T15:19:22.592440Z",
     "iopub.status.busy": "2022-05-30T15:19:22.592078Z",
     "iopub.status.idle": "2022-05-30T15:19:45.343462Z",
     "shell.execute_reply": "2022-05-30T15:19:45.342685Z",
     "shell.execute_reply.started": "2022-05-30T15:19:22.592408Z"
    }
   },
   "outputs": [],
   "source": [
    "plt.figure(figsize=(10, 9))\n",
    "\n",
    "# training and validation accuracy\n",
    "acc = history.history['accuracy']\n",
    "val_acc = history.history['val_accuracy']\n",
    "\n",
    "plt.subplot(2, 1, 1)\n",
    "plt.plot(acc, label='Training Accuracy')\n",
    "plt.plot(val_acc, label='Validation Accuracy')\n",
    "plt.legend(loc='lower right')\n",
    "plt.ylabel('Accuracy')\n",
    "plt.xlabel('Epoch')\n",
    "plt.ylim([min(plt.ylim()),1])\n",
    "plt.title('Accuracy', size=15, fontweight='bold')\n",
    "\n",
    "# training and validation loss\n",
    "loss = history.history['loss']\n",
    "val_loss = history.history['val_loss']\n",
    "\n",
    "plt.subplot(2, 1, 2)\n",
    "plt.plot(loss, label='Training Loss')\n",
    "plt.plot(val_loss, label='Validation Loss')\n",
    "plt.legend(loc='upper right')\n",
    "plt.ylabel('Cross Entropy')\n",
    "plt.xlabel('Epoch')\n",
    "plt.ylim([0,1.0])\n",
    "plt.title('Loss', size=15, fontweight='bold')\n",
    "plt.show()"
   ]
  },
  {
   "cell_type": "markdown",
   "metadata": {},
   "source": [
    "## <span style='background :LemonChiffon' > Predicting images </span>"
   ]
  },
  {
   "cell_type": "code",
   "execution_count": 18,
   "metadata": {
    "execution": {
     "iopub.execute_input": "2022-05-30T15:20:55.193242Z",
     "iopub.status.busy": "2022-05-30T15:20:55.192252Z",
     "iopub.status.idle": "2022-05-30T15:20:55.207080Z",
     "shell.execute_reply": "2022-05-30T15:20:55.206103Z",
     "shell.execute_reply.started": "2022-05-30T15:20:55.193195Z"
    }
   },
   "outputs": [],
   "source": [
    "# Upload image to be predicted\n",
    "from ipywidgets import FileUpload\n",
    "\n",
    "upload = FileUpload()\n",
    "upload"
   ]
  },
  {
   "cell_type": "code",
   "execution_count": 29,
   "metadata": {
    "execution": {
     "iopub.execute_input": "2022-05-30T15:25:30.657806Z",
     "iopub.status.busy": "2022-05-30T15:25:30.657167Z",
     "iopub.status.idle": "2022-05-30T15:25:31.325490Z",
     "shell.execute_reply": "2022-05-30T15:25:31.322825Z",
     "shell.execute_reply.started": "2022-05-30T15:25:30.657770Z"
    }
   },
   "outputs": [],
   "source": [
    "# Display image\n",
    "import io\n",
    "from PIL import Image\n",
    "\n",
    "for name, file_info in upload.value.items():\n",
    "    pic = Image.open(io.BytesIO(file_info['content']))\n",
    "\n",
    "pic"
   ]
  },
  {
   "cell_type": "code",
   "execution_count": 30,
   "metadata": {
    "execution": {
     "iopub.execute_input": "2022-05-30T15:25:43.252231Z",
     "iopub.status.busy": "2022-05-30T15:25:43.251874Z",
     "iopub.status.idle": "2022-05-30T15:25:43.314527Z",
     "shell.execute_reply": "2022-05-30T15:25:43.313140Z",
     "shell.execute_reply.started": "2022-05-30T15:25:43.252200Z"
    }
   },
   "outputs": [],
   "source": [
    "# Resize image\n",
    "x = np.array(pic)\n",
    "x = tf.image.resize(x, [img_height, img_width])\n",
    "x = np.expand_dims(x, axis=0)\n",
    "\n",
    "# Predict image class\n",
    "pred_img = model.predict(x)\n",
    "pred_idx = np.argmax(pred_img, axis=-1)\n",
    "\n",
    "print(\"It's a {}!\".format(class_names[int(pred_idx)]))\n",
    "print(pred_idx)\n",
    "print(pred_img)"
   ]
  },
  {
   "cell_type": "markdown",
   "metadata": {},
   "source": [
    "### Confusion Matrix"
   ]
  },
  {
   "cell_type": "code",
   "execution_count": 31,
   "metadata": {
    "execution": {
     "iopub.execute_input": "2022-05-30T15:26:11.216766Z",
     "iopub.status.busy": "2022-05-30T15:26:11.216142Z",
     "iopub.status.idle": "2022-05-30T15:26:21.760009Z",
     "shell.execute_reply": "2022-05-30T15:26:21.759122Z",
     "shell.execute_reply.started": "2022-05-30T15:26:11.216725Z"
    }
   },
   "outputs": [],
   "source": [
    "from sklearn.metrics import confusion_matrix\n",
    "import seaborn as sns\n",
    "\n",
    "predicted = []  # predicted labels\n",
    "true = []  # true labels\n",
    "\n",
    "for image_batch, label_batch in test_dataset:  \n",
    "    true.append(label_batch)\n",
    "    prediction = model.predict(image_batch)\n",
    "    predicted.append(np.argmax(prediction, axis=-1))\n",
    "\n",
    "# convert labels into tensors\n",
    "true_labels = tf.concat([item for item in true], axis=0)\n",
    "predicted_labels = tf.concat([item for item in predicted], axis=0)\n",
    "\n",
    "cf_matrix = confusion_matrix(true_labels, predicted_labels, normalize='true')\n",
    "\n",
    "# plot confusion  matrix\n",
    "plt.figure(figsize = (10,7))\n",
    "sns.heatmap(cf_matrix, \n",
    "            annot=True)\n",
    "plt.title('Confusion Matrix', size=15, fontweight='bold')\n",
    "plt.show()"
   ]
  },
  {
   "cell_type": "markdown",
   "metadata": {},
   "source": [
    "## <span style='background :LemonChiffon' > Save model </span>"
   ]
  },
  {
   "cell_type": "code",
   "execution_count": 32,
   "metadata": {
    "execution": {
     "iopub.execute_input": "2022-05-30T15:28:53.224908Z",
     "iopub.status.busy": "2022-05-30T15:28:53.224195Z",
     "iopub.status.idle": "2022-05-30T15:28:53.625596Z",
     "shell.execute_reply": "2022-05-30T15:28:53.624751Z",
     "shell.execute_reply.started": "2022-05-30T15:28:53.224871Z"
    }
   },
   "outputs": [],
   "source": [
    "model.save('fruitveg_updated.h5')"
   ]
  },
  {
   "cell_type": "code",
   "execution_count": 33,
   "metadata": {
    "execution": {
     "iopub.execute_input": "2022-05-30T15:31:08.750231Z",
     "iopub.status.busy": "2022-05-30T15:31:08.749544Z",
     "iopub.status.idle": "2022-05-30T15:31:35.749949Z",
     "shell.execute_reply": "2022-05-30T15:31:35.749122Z",
     "shell.execute_reply.started": "2022-05-30T15:31:08.750197Z"
    }
   },
   "outputs": [],
   "source": [
    "tf.saved_model.save(model, 'fruitveg_updated')"
   ]
  }
 ],
 "metadata": {
  "kernelspec": {
   "display_name": "Python 3",
   "language": "python",
   "name": "python3"
  },
  "language_info": {
   "codemirror_mode": {
    "name": "ipython",
    "version": 3
   },
   "file_extension": ".py",
   "mimetype": "text/x-python",
   "name": "python",
   "nbconvert_exporter": "python",
   "pygments_lexer": "ipython3",
   "version": "3.8.8"
  }
 },
 "nbformat": 4,
 "nbformat_minor": 4
}
