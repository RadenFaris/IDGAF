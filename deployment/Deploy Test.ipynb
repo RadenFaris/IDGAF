{
 "cells": [
  {
   "cell_type": "markdown",
   "metadata": {},
   "source": [
    "## test prediction from saved model"
   ]
  },
  {
   "cell_type": "code",
   "execution_count": null,
   "metadata": {},
   "outputs": [],
   "source": [
    "from skimage import io\n",
    "import numpy as np\n",
    "\n",
    "model_path = r\"C:\\Users\\ASUS\\Jupyter Notebook\\Fruit and Vegetable Freshness Classification\\fruit-vegetable-freshness\\IDGAF\\models\\fruit-veg-freshness-classification\\fruit_veg_freshness.h5\"\n",
    "img_path = r\"C:\\Users\\ASUS\\Downloads\\download.jpg\"\n",
    "\n",
    "saved_model = tf.keras.models.load_model(model_path)\n",
    "\n",
    "img = io.imread(img_path)\n",
    "img = np.resize(pic, (224,224,3))\n",
    "img = np.expand_dims(img, axis=0)\n",
    "\n",
    "saved_model.predict(img)"
   ]
  },
  {
   "cell_type": "markdown",
   "metadata": {},
   "source": [
    "## deploy to local server"
   ]
  },
  {
   "cell_type": "code",
   "execution_count": 2,
   "metadata": {},
   "outputs": [
    {
     "name": "stdout",
     "output_type": "stream",
     "text": [
      " * Serving Flask app \"__main__\" (lazy loading)\n",
      " * Environment: production\n",
      "   WARNING: This is a development server. Do not use it in a production deployment.\n",
      "   Use a production WSGI server instead.\n",
      " * Debug mode: off\n"
     ]
    },
    {
     "name": "stderr",
     "output_type": "stream",
     "text": [
      " * Running on http://127.0.0.1:5000/ (Press CTRL+C to quit)\n"
     ]
    },
    {
     "name": "stdout",
     "output_type": "stream",
     "text": [
      "1/1 [==============================] - 4s 4s/step\n"
     ]
    },
    {
     "name": "stderr",
     "output_type": "stream",
     "text": [
      "127.0.0.1 - - [01/Jun/2022 11:45:03] \"\u001b[37mPOST /predict HTTP/1.1\u001b[0m\" 200 -\n"
     ]
    },
    {
     "name": "stdout",
     "output_type": "stream",
     "text": [
      "1/1 [==============================] - 0s 245ms/step\n"
     ]
    },
    {
     "name": "stderr",
     "output_type": "stream",
     "text": [
      "127.0.0.1 - - [01/Jun/2022 11:47:00] \"\u001b[37mPOST /predict HTTP/1.1\u001b[0m\" 200 -\n"
     ]
    }
   ],
   "source": [
    "import base64\n",
    "import json\n",
    "from io import BytesIO\n",
    "import numpy as np\n",
    "import requests\n",
    "from flask import Flask, request, jsonify\n",
    "import tensorflow as tf\n",
    "\n",
    "# load model\n",
    "model_path = r\"C:\\Users\\ASUS\\Jupyter Notebook\\Fruit and Vegetable Freshness Classification\\fruit-vegetable-freshness\\IDGAF\\models\\fruit-veg-freshness-classification\\fruit_veg_freshness.h5\"\n",
    "model = tf.keras.models.load_model(model_path)\n",
    "\n",
    "# input image specification\n",
    "img_height = 224\n",
    "img_width = 224\n",
    "img_size = (img_height, img_width)\n",
    "img_shape = img_size + (3,)\n",
    "\n",
    "# classes to predict\n",
    "class_names = ['f_apple', 'f_banana', 'f_carrot', 'f_greens', 'f_orange', 'f_tomato',\n",
    "'m_apple', 'm_banana', 'm_carrot', 'm_greens', 'm_orange', 'm_tomato', 'r_apple',\n",
    "'r_banana', 'r_carrot', 'r_greens', 'r_orange', 'r_tomato']\n",
    "\n",
    "\n",
    "# simple flask web app\n",
    "app = Flask(__name__)\n",
    "@app.route(\"/\")\n",
    "def test():\n",
    "    return \"OK\"\n",
    "\n",
    "# prediction\n",
    "@app.route(\"/predict\", methods=[\"POST\"])\n",
    "def predict():\n",
    "    # load image & preprocess\n",
    "    pic = np.array(tf.keras.utils.load_img(BytesIO(base64.b64decode(request.form['b64'])),\n",
    "                                        target_size=img_shape))\n",
    "    pic = np.expand_dims(pic, axis=0)\n",
    "    pic = pic.astype('float16')\n",
    "    \n",
    "    # predict image class\n",
    "    pred = model.predict(pic)\n",
    "    pred_idx = np.argmax(pred, axis=-1)\n",
    "    prediction = \"it's a {}!\".format(class_names[int(pred_idx)])\n",
    "    response_json = {\"prediction\" : prediction}\n",
    "    return json.dumps(response_json)\n",
    "\n",
    "# run app\n",
    "app.run()"
   ]
  },
  {
   "cell_type": "markdown",
   "metadata": {},
   "source": [
    "## request prediction\n",
    "run in another file"
   ]
  },
  {
   "cell_type": "code",
   "execution_count": null,
   "metadata": {},
   "outputs": [],
   "source": [
    "import requests\n",
    "import json\n",
    "import base64\n",
    "from skimage import io\n",
    "import matplotlib.pyplot as plt\n",
    "\n",
    "img_path = r\"C:\\Users\\ASUS\\Downloads\\download.jpg\"\n",
    "img = io.imread(img_path)\n",
    "\n",
    "with open(img_path, 'rb') as file:\n",
    "    test_img = base64.b64encode(file.read())\n",
    "    \n",
    "data = {'b64': test_img}\n",
    "endpoint = \"http://127.0.0.1:5000/predict\"\n",
    "resp = requests.post(endpoint, data=data)\n",
    "\n",
    "print(resp.json())\n",
    "plt.imshow(img);"
   ]
  }
 ],
 "metadata": {
  "kernelspec": {
   "display_name": "Python 3",
   "language": "python",
   "name": "python3"
  },
  "language_info": {
   "codemirror_mode": {
    "name": "ipython",
    "version": 3
   },
   "file_extension": ".py",
   "mimetype": "text/x-python",
   "name": "python",
   "nbconvert_exporter": "python",
   "pygments_lexer": "ipython3",
   "version": "3.8.5"
  },
  "widgets": {
   "application/vnd.jupyter.widget-state+json": {
    "state": {},
    "version_major": 2,
    "version_minor": 0
   }
  }
 },
 "nbformat": 4,
 "nbformat_minor": 4
}
